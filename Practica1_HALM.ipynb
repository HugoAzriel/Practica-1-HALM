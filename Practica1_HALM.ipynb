{
  "nbformat": 4,
  "nbformat_minor": 0,
  "metadata": {
    "colab": {
      "provenance": [],
      "authorship_tag": "ABX9TyM+i31GhwRu3IsUGXD5Nl4u",
      "include_colab_link": true
    },
    "kernelspec": {
      "name": "python3",
      "display_name": "Python 3"
    },
    "language_info": {
      "name": "python"
    }
  },
  "cells": [
    {
      "cell_type": "markdown",
      "metadata": {
        "id": "view-in-github",
        "colab_type": "text"
      },
      "source": [
        "<a href=\"https://colab.research.google.com/github/HugoAzriel/Practica-1-HALM/blob/main/Practica1_HALM.ipynb\" target=\"_parent\"><img src=\"https://colab.research.google.com/assets/colab-badge.svg\" alt=\"Open In Colab\"/></a>"
      ]
    },
    {
      "cell_type": "code",
      "execution_count": null,
      "metadata": {
        "colab": {
          "base_uri": "https://localhost:8080/"
        },
        "id": "DIBnw9esqJSY",
        "outputId": "fc0ef85e-5b8e-48d9-9693-695a05d6b739"
      },
      "outputs": [
        {
          "output_type": "stream",
          "name": "stdout",
          "text": [
            "Ingrese su nombre: hugo\n",
            "Hola hugo. Bienvenido a CECYTEM COACALCO\n",
            "Ingrese su edad: 5\n",
            "En 20 años, tendras 25 años\n"
          ]
        }
      ],
      "source": [
        "nombre = input(\"Ingrese su nombre: \")\n",
        "print(\"Hola \"+ nombre + \". Bienvenido a CECYTEM COACALCO\")\n",
        "edad = int(input(\"Ingrese su edad: \"))\n",
        "edad_en_10_anios = edad + 20;\n",
        "print(\"En 20 años, tendras\", edad_en_10_anios, \"años\")"
      ]
    },
    {
      "cell_type": "code",
      "source": [
        "\n",
        "nombre = \"Hugo Lopez Mendoza\"\n",
        "edad = 16\n",
        "estatura = 1.85\n",
        "print(\"Nombre: \", nombre)\n",
        "print(\"Edad: \", edad)\n",
        "print(\"Estatura: \", estatura, \"metros\")\n",
        "suma_edad_estatura= edad+estatura\n",
        "resta_edad_estatura=edad-estatura\n",
        "multiplicacion_edad_estatura=edad*estatura\n",
        "division_edad_estatura=edad/estatura\n",
        "\n",
        "print(\"Suma de edad y estatura son:\", suma_edad_estatura)\n",
        "print(\"Resta de edad y estatura: \", resta_edad_estatura)\n",
        "print(\"Multiplicacion de eedad y estatura: \",multiplicacion_edad_estatura)\n",
        "print(\"Division edad y estatura: \", division_edad_estatura)\n"
      ],
      "metadata": {
        "colab": {
          "base_uri": "https://localhost:8080/"
        },
        "id": "LquLr84qs9a6",
        "outputId": "03f76db9-43e9-4627-e2a1-40b636381004"
      },
      "execution_count": null,
      "outputs": [
        {
          "output_type": "stream",
          "name": "stdout",
          "text": [
            "Nombre:  Hugo Lopez Mendoza\n",
            "Edad:  16\n",
            "Estatura:  1.85 metros\n",
            "Suma de edad y estatura son: 17.85\n",
            "Resta de edad y estatura:  14.15\n",
            "Multiplicacion de eedad y estatura:  29.6\n",
            "Division edad y estatura:  8.648648648648647\n"
          ]
        }
      ]
    },
    {
      "cell_type": "code",
      "source": [
        "pais=\"Belgica\"\n",
        "capital=\"Bruselas\"\n",
        "poblacion=\"11,59 millones (2021)\"\n",
        "print(\"Pais:\", pais)\n",
        "print(\"Capital:\", capital)\n",
        "print(\"Poblacion:\",poblacion)\n",
        "numero=float(input(\"Ingresa un numero: \"))\n",
        "resultado= numero *3\n",
        "print(\"El triple del numero ingresado es:\", resultado)"
      ],
      "metadata": {
        "colab": {
          "base_uri": "https://localhost:8080/"
        },
        "id": "Chd1rnB7vL_G",
        "outputId": "b999b499-89ea-4add-81e4-013f3686590b"
      },
      "execution_count": null,
      "outputs": [
        {
          "output_type": "stream",
          "name": "stdout",
          "text": [
            "Pais: Belgica\n",
            "Capital: Bruselas\n",
            "Poblacion: 11,59 millones (2021)\n",
            "Ingresa un numero: 8\n",
            "El triple del numero ingresado es: 24.0\n"
          ]
        }
      ]
    }
  ]
}